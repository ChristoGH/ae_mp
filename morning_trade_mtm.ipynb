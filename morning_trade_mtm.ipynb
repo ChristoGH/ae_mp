{
 "cells": [
  {
   "cell_type": "code",
   "execution_count": 1,
   "metadata": {},
   "outputs": [],
   "source": [
    "#!/usr/bin/env python3\n",
    "# -*- coding: utf-8 -*-\n",
    "\"\"\"\n",
    "Created on Sun Feb 23 10:59:46 2020\n",
    "\n",
    "https://dash.plotly.com/\n",
    "\n",
    "@author: Christo Strydom\n",
    "\"\"\"\n",
    "import tensorflow as tf\n",
    "from tensorflow import keras\n",
    "import plotly.graph_objects as go\n",
    "import os\n",
    "import tempfile\n",
    "import datetime as datetime\n",
    "import matplotlib as mpl\n",
    "import matplotlib.pyplot as plt\n",
    "import numpy as np\n",
    "import pandas as pd\n",
    "import seaborn as sns\n",
    "import pickle\n",
    "import sklearn\n",
    "from plotly.subplots import make_subplots\n",
    "from sklearn.metrics import confusion_matrix\n",
    "from sklearn.model_selection import train_test_split\n",
    "from sklearn.preprocessing import StandardScaler\n",
    "os.chdir('/media/lnr-ai/christo/github_repos/ae_mp/')\n",
    "# from sklearn.model_selection import train_test_split\n",
    "# import pandas as pd\n",
    "# import numpy as np\n",
    "#%%\n",
    "mpl.rcParams['figure.figsize'] = (12, 10)\n",
    "colors = plt.rcParams['axes.prop_cycle'].by_key()['color']\n",
    "format_str=MP_FXCM_DATETIME_FORMAT='%Y-%m-%d %H:%M:%S'"
   ]
  },
  {
   "cell_type": "code",
   "execution_count": 2,
   "metadata": {},
   "outputs": [],
   "source": [
    "%matplotlib inline"
   ]
  },
  {
   "cell_type": "code",
   "execution_count": 3,
   "metadata": {},
   "outputs": [],
   "source": [
    "ae_data_path='/media/lnr-ai/christo/github_repos/ae_mp/data/'\n",
    "ae_candles_filename = 'data/alldata_wrangled.csv'\n",
    "ae_df=pd.read_csv(ae_candles_filename)\n",
    "ae_df=ae_df[ae_df.is_business_day].copy()\n",
    "ae_df['jhb_timestamp'] =  pd.to_datetime(ae_df['jhb_timestamp'], format=format_str)\n",
    "format_str='%Y-%m-%d'\n",
    "ae_df['date'] =  pd.to_datetime(ae_df['date'], format=format_str)"
   ]
  },
  {
   "cell_type": "markdown",
   "metadata": {},
   "source": [
    "['datetime',\n",
    " 'date',\n",
    " 'Gmt time',\n",
    " 'Open',\n",
    " 'High',\n",
    " 'Low',\n",
    " 'Close',\n",
    " 'Volume',\n",
    " 'bidopen',\n",
    " 'bidclose',\n",
    " 'bidhigh',\n",
    " 'bidlow',\n",
    " 'askopen',\n",
    " 'askclose',\n",
    " 'askhigh',\n",
    " 'asklow',\n",
    " 'tickqty',\n",
    " 'open',\n",
    " 'high',\n",
    " 'low',\n",
    " 'close',\n",
    " 'period',\n",
    " 'dom',\n",
    " 'awdn',\n",
    " 'month',\n",
    " 'doy',\n",
    " 'wny',\n",
    " 'timestamp',\n",
    " 'ny_timestamp',\n",
    " 'london_timestamp',\n",
    " 'jhb_timestamp',\n",
    " 'timestamp_int_seconds',\n",
    " 'ny_timestamp_int_seconds',\n",
    " 'london_timestamp_int_seconds',\n",
    " 'jhb_timestamp_int_seconds',\n",
    " 'int_seconds',\n",
    " 'universaldate',\n",
    " 'is_business_day',\n",
    " 'previous_business_day',\n",
    " 'five_previous_business_day']"
   ]
  },
  {
   "cell_type": "code",
   "execution_count": null,
   "metadata": {},
   "outputs": [],
   "source": [
    "def pkl_dump(df, fname, data_path):\n",
    "   f = open(\"{data_path}{fname}.pkl\".format(fname=fname,data_path=data_path),\"wb\")\n",
    "   pickle.dump(df,f)\n",
    "   f.close()\n",
    "   return\n",
    "\n",
    "def pkl_load(fname, data_path):\n",
    "   return pickle.load( open( \"{data_path}{fname}.pkl\".format(fname=fname, data_path=data_path), \"rb\" ) )  \n",
    "\n",
    "def time_filter_fn(df, start_int_seconds, end_int_seconds, int_seconds_field):\n",
    "   return (ae_df[int_seconds_field]>=start_int_seconds) & (ae_df[int_seconds_field]<=end_int_seconds)\n",
    "\n",
    "def businessday_filter_fn(df):\n",
    "   return df['is_business_day']\n",
    "\n",
    "def mp_filter_fn(df, start_int_seconds, end_int_seconds,int_seconds_field):\n",
    "   time_filter=time_filter_fn(df, start_int_seconds, end_int_seconds,int_seconds_field)\n",
    "   businessday_filter=businessday_filter_fn(df)\n",
    "   return time_filter&businessday_filter\n",
    "\n",
    "def days_fn(df,mp_filter):\n",
    "   return list(set(df.loc[mp_filter, 'date'])) \n",
    "# days=list(set(ae_df.loc[mp_filter, 'date'])) \n",
    "\n",
    "def day_filter_fn(df,day):\n",
    "   return df['date']==day\n",
    "\n",
    "def range_fn(df, day_filter,time_filter):\n",
    "    f=np.logical_and(day_filter, time_filter)\n",
    "    on_high=max(df.loc[f, 'high'])\n",
    "    on_low=min(df.loc[f, 'low'])   \n",
    "    on_range=on_high-on_low\n",
    "    return on_high, on_low, on_range\n",
    "\n",
    "def on_fn(df, day_filter, on_high, on_low, on_range):\n",
    "   df.loc[day_filter, 'on_low']=on_low\n",
    "   df.loc[day_filter, 'on_high']=on_high\n",
    "   df.loc[day_filter, 'on_range']=on_range\n",
    "   return df\n",
    "\n",
    "def order_fn(df,day_filter, perc_level, on_high, on_low, on_range):   \n",
    "   df.loc[day_filter, 'sell_{perc_level}'.format(perc_level=perc_level)]=on_high+perc_level*on_range/100\n",
    "   df.loc[day_filter, 'buy_{perc_level}'.format(perc_level=perc_level)]=on_low-perc_level*on_range/100\n",
    "   return df\n",
    "\n",
    "def trade_range_fn(df, day,int_seconds_field):\n",
    "    day_filter=day_filter_fn(df, day)\n",
    "    time_filter=time_filter_fn(df, 0, 28800,int_seconds_field)\n",
    "    on_high, on_low, on_range=range_fn(df, day_filter, time_filter)\n",
    "    df=on_fn(df, day_filter, on_high, on_low, on_range)\n",
    "    for perc_level in [50,75,100]:\n",
    "        df=order_fn(df=df,day_filter=day_filter, \n",
    "                  perc_level=perc_level, \n",
    "                  on_high=on_high, \n",
    "                  on_low=on_low, \n",
    "                  on_range=on_range)\n",
    "    return df\n",
    "\n",
    "def trade_df_fn(df, dfilter, tfilter):\n",
    "    return df[np.logical_and(dfilter, tfilter)]\n",
    "# on_high, on_low, on_range=range_fn(df=ae_df, day_filter=day_filter, time_filter=time_filter)"
   ]
  },
  {
   "cell_type": "markdown",
   "metadata": {},
   "source": [
    "#### No need to run this cell every time:"
   ]
  },
  {
   "cell_type": "code",
   "execution_count": null,
   "metadata": {},
   "outputs": [],
   "source": [
    "ae_df[['date','datetime','timestamp', 'jhb_timestamp']]"
   ]
  },
  {
   "cell_type": "code",
   "execution_count": null,
   "metadata": {},
   "outputs": [],
   "source": [
    "x=df[timestamp_field][0]\n",
    "seconds_f= lambda x:(time.mktime(x.timetuple())-time.mktime(datetime.datetime(x.year,x.month,x.day).timetuple()))\n",
    "df[timestamp_field+'_int_seconds']=df[timestamp_field].apply(seconds_f)\n"
   ]
  },
  {
   "cell_type": "code",
   "execution_count": null,
   "metadata": {},
   "outputs": [],
   "source": [
    "timestamp=ae_df['jhb_timestamp_int_seconds'][0]"
   ]
  },
  {
   "cell_type": "code",
   "execution_count": null,
   "metadata": {},
   "outputs": [],
   "source": [
    "dt_object = datetime.datetime.fromtimestamp(timestamp)"
   ]
  },
  {
   "cell_type": "code",
   "execution_count": null,
   "metadata": {},
   "outputs": [],
   "source": [
    "dt_object"
   ]
  },
  {
   "cell_type": "code",
   "execution_count": null,
   "metadata": {},
   "outputs": [],
   "source": [
    "# 'datetime'\n",
    "timestamp_field='jhb_timestamp'\n",
    "int_seconds_field='{timestamp_field}_int_seconds'.format(timestamp_field=timestamp_field)\n",
    "mp_filter=mp_filter_fn(df=ae_df, start_int_seconds=0, end_int_seconds=28800,int_seconds_field=int_seconds_field)\n",
    "ae_df['overnight_range']=mp_filter\n",
    "days = days_fn(ae_df,mp_filter)\n",
    "for day in days:\n",
    "   index=days.index(day)\n",
    "   print('Doing day = {day} and index = {index}...'.format(index=index, day=day))\n",
    "   ae_df=trade_range_fn(ae_df, day,int_seconds_field)"
   ]
  },
  {
   "cell_type": "markdown",
   "metadata": {},
   "source": [
    "#### This saves the OUTPUT from the previous cell:"
   ]
  },
  {
   "cell_type": "code",
   "execution_count": null,
   "metadata": {},
   "outputs": [],
   "source": [
    "pkl_dump(df=ae_df, fname='ae_df.csv', data_path=ae_data_path)"
   ]
  },
  {
   "cell_type": "markdown",
   "metadata": {},
   "source": [
    "#### This LOADS the output from the precious TWO cells and do some preliminary work:"
   ]
  },
  {
   "cell_type": "code",
   "execution_count": null,
   "metadata": {},
   "outputs": [],
   "source": [
    "# pickle load file:\n",
    "ae_df=pkl_load(fname='ae_df.csv', data_path=ae_data_path)\n",
    "# make date column:\n",
    "ae_df['date'] =  pd.to_datetime(ae_df['date'], format=format_str)\n",
    "# Extract only business days:\n",
    "ae_df=ae_df[ae_df.is_business_day].copy()\n",
    "# day=max(ae_df['date'])"
   ]
  },
  {
   "cell_type": "markdown",
   "metadata": {},
   "source": [
    "#### time_filter sets the slice of the day that defines the overnight range:"
   ]
  },
  {
   "cell_type": "code",
   "execution_count": null,
   "metadata": {},
   "outputs": [],
   "source": [
    "days = days_fn(ae_df,mp_filter)"
   ]
  },
  {
   "cell_type": "code",
   "execution_count": null,
   "metadata": {},
   "outputs": [],
   "source": [
    "day=days[0]\n",
    "day_filter=day_filter_fn(df=ae_df,day=day)\n",
    "time_filter=time_filter_fn(ae_df.copy(), 28800, 24*60*60,int_seconds_field)"
   ]
  },
  {
   "cell_type": "code",
   "execution_count": null,
   "metadata": {},
   "outputs": [],
   "source": [
    "on_high, on_low, on_range=range_fn(df=ae_df, day_filter=day_filter, time_filter=time_filter)"
   ]
  },
  {
   "cell_type": "code",
   "execution_count": null,
   "metadata": {},
   "outputs": [],
   "source": [
    "df=on_fn(ae_df, day_filter, on_high, on_low, on_range)"
   ]
  },
  {
   "cell_type": "code",
   "execution_count": null,
   "metadata": {},
   "outputs": [],
   "source": [
    "for perc_level in [50,75,100]:\n",
    "    df=order_fn(df=df,day_filter=day_filter, \n",
    "              perc_level=perc_level, \n",
    "              on_high=on_high, \n",
    "              on_low=on_low, \n",
    "              on_range=on_range)"
   ]
  },
  {
   "cell_type": "code",
   "execution_count": null,
   "metadata": {},
   "outputs": [],
   "source": [
    "dst=list(df['datetime'])[-1]\n",
    "# dst.year\n",
    "date_object = datetime.datetime.strptime(dst, \"%Y-%m-%d %H:%M:%S\")"
   ]
  },
  {
   "cell_type": "code",
   "execution_count": null,
   "metadata": {},
   "outputs": [],
   "source": [
    "datetime.datetime.strptime(dst, \"%Y-%m-%d %H:%M:%S\")"
   ]
  },
  {
   "cell_type": "code",
   "execution_count": null,
   "metadata": {},
   "outputs": [],
   "source": [
    "date_object.year"
   ]
  },
  {
   "cell_type": "code",
   "execution_count": null,
   "metadata": {},
   "outputs": [],
   "source": [
    "d=datetime.datetime(date_object.year, date_object.month,date_object.day, 8, 30)"
   ]
  },
  {
   "cell_type": "code",
   "execution_count": null,
   "metadata": {},
   "outputs": [],
   "source": [
    "d.strftime(\"%Y-%m-%d %H:%M:%S\")"
   ]
  },
  {
   "cell_type": "code",
   "execution_count": null,
   "metadata": {},
   "outputs": [],
   "source": [
    "dateTimeObj = ae_df['jhb_timestamp'][0]"
   ]
  },
  {
   "cell_type": "code",
   "execution_count": null,
   "metadata": {},
   "outputs": [],
   "source": [
    "dst = dateTimeObj.strftime(\"%Y-%m-%d %H:%M:%S\")\n",
    "print('Current Timestamp : ', dst)"
   ]
  },
  {
   "cell_type": "code",
   "execution_count": null,
   "metadata": {},
   "outputs": [],
   "source": [
    "date_object = datetime.datetime.strptime(dst, \"%Y-%m-%d %H:%M:%S\")\n",
    "end_d=datetime.datetime(date_object.year, date_object.month,date_object.day, 8,0)\n",
    "start_d=datetime.datetime(date_object.year, date_object.month,date_object.day, 0, 0)\n",
    "fin_d=datetime.datetime(date_object.year, date_object.month,date_object.day, 23,59,59)"
   ]
  },
  {
   "cell_type": "code",
   "execution_count": null,
   "metadata": {},
   "outputs": [],
   "source": [
    "f = lambda x:x.strftime(\"%Y-%m-%d %H:%M:%S\")\n",
    "ae_df['datetime']=ae_df[timestamp_field].apply(f)"
   ]
  },
  {
   "cell_type": "code",
   "execution_count": null,
   "metadata": {},
   "outputs": [],
   "source": [
    "def time_fn(dst):\n",
    "    date_object = datetime.datetime.strptime(dst, \"%Y-%m-%d %H:%M:%S\")\n",
    "    end_d=datetime.datetime(date_object.year, date_object.month,date_object.day, 8,0)\n",
    "    start_d=datetime.datetime(date_object.year, date_object.month,date_object.day, 0, 0)\n",
    "    fin_d=datetime.datetime(date_object.year, date_object.month,date_object.day, 23,59,59)\n",
    "    return start_d.strftime(\"%Y-%m-%d %H:%M:%S\"), end_d.strftime(\"%Y-%m-%d %H:%M:%S\"), fin_d.strftime(\"%Y-%m-%d %H:%M:%S\")"
   ]
  },
  {
   "cell_type": "code",
   "execution_count": null,
   "metadata": {},
   "outputs": [],
   "source": [
    "start_time, end_time, fin_time = time_fn(dst=list(df['datetime'])[0])\n",
    "# jhb_timestamp"
   ]
  },
  {
   "cell_type": "code",
   "execution_count": null,
   "metadata": {
    "scrolled": true
   },
   "outputs": [],
   "source": [
    "\n",
    "# df = pd.read_csv('https://raw.githubusercontent.com/plotly/datasets/master/finance-charts-apple.csv')\n",
    "df=ae_df[day_filter].copy()\n",
    "min_y=min(min(df['Low']),min(df.buy_100))*0.995\n",
    "max_y=max(max(df['High']),max(df.sell_100))*1.005\n",
    "fig = go.Figure(data=[go.Candlestick(x=df['datetime'],\n",
    "                open=df['Open'],\n",
    "                high=df['High'],\n",
    "                low=df['Low'],\n",
    "                close=df['Close'])])\n",
    "start_time, end_time, fin_time = time_fn(dst=list(df['datetime'])[0])\n",
    "# fig.update_xaxes(range=[min(df.buy_100), max(df.sell_100)])\n",
    "# fig.update_yaxes(range=[start_time, end_time])\n",
    "\n",
    "\n",
    "# start_time=list(df['datetime'])[0]\n",
    "# end_time=list(df['datetime'])[-1]\n",
    "\n",
    "fig.update_layout(\n",
    "    title='Overnight trade',\n",
    "    yaxis_title='USDZAR',\n",
    "    shapes = [\n",
    "        dict(\n",
    "#         type=\"rect\",\n",
    "        x0=end_time, x1=fin_time, y0=list(df.sell_100)[0], y1=list(df.sell_100)[0],\n",
    "        line=dict(color=\"red\",width=1,dash=\"dashdot\"),opacity=0.2),\n",
    "        dict(\n",
    "        x0=end_time, x1=fin_time, y0=list(df.sell_75)[0], y1=list(df.sell_75)[0],\n",
    "        line=dict(color=\"red\",width=1,dash=\"dashdot\"),opacity=0.3),\n",
    "        dict(\n",
    "        x0=end_time, x1=fin_time, y0=list(df.sell_50)[0], y1=list(df.sell_50)[0],\n",
    "        line=dict(color=\"red\",width=1,dash=\"dashdot\"),opacity=0.4),\n",
    "        dict(\n",
    "        x0=end_time, x1=fin_time, y0=list(df.buy_100)[0], y1=list(df.buy_100)[0],\n",
    "        line=dict(color=\"green\",width=1,dash=\"dashdot\"),opacity=0.2),\n",
    "        dict(\n",
    "        x0=end_time, x1=fin_time, y0=list(df.buy_75)[0], y1=list(df.buy_75)[0],\n",
    "        line=dict(color=\"green\",width=1,dash=\"dashdot\"),opacity=0.3),\n",
    "        dict(\n",
    "        x0=end_time, x1=fin_time, y0=list(df.buy_50)[0], y1=list(df.buy_50)[0],\n",
    "        line=dict(color=\"green\",width=1,dash=\"dashdot\"),opacity=0.4),      \n",
    "        dict(\n",
    "        type=\"rect\",\n",
    "        x0=start_time, x1=end_time, y0=list(df.on_low)[0], y1=list(df.on_high)[0],\n",
    "        fillcolor=\"LightSkyBlue\", opacity=0.15),\n",
    "        dict(\n",
    "        type=\"rect\",\n",
    "        x0=start_time, x1=end_time, y0=min_y, y1=max_y,\n",
    "        fillcolor=\"LightSkyBlue\", opacity=0.05),        \n",
    "#         dict(\n",
    "#         x0=start_time, x1=end_time, y0=list(df.on_low)[0], y1=list(df.on_low)[0],\n",
    "#         line_width=1),\n",
    "#         dict(\n",
    "#         x0=start_time, x1=end_time, y0=list(df.on_high)[0], y1=list(df.on_high)[0],\n",
    "#         line_width=1)\n",
    "    ])\n",
    "\n",
    "# fig.update_xaxes(range=[min(df.buy_100), max(df.sell_100)])\n",
    "# fig.update_yaxes(range=[start_time, end_time])\n",
    "# fig.add_shape(\n",
    "#         # filled Rectangle\n",
    "#             type=\"rect\",\n",
    "#             xref=\"x\",\n",
    "#             yref=\"y\",    \n",
    "#             x0=start_time,\n",
    "#             y0=df.buy_100,\n",
    "#             x1=end_time,\n",
    "#             y1=df.sell_100,\n",
    "#             line=dict(\n",
    "#                 color=\"RoyalBlue\",\n",
    "#                 width=2,\n",
    "#             ),\n",
    "#             fillcolor=\"LightSkyBlue\",\n",
    "#         )\n",
    "# fig.add_shape(\n",
    "#         # Rectangle reference to the plot\n",
    "#             type=\"rect\",\n",
    "#             xref=\"paper\",\n",
    "#             yref=\"paper\",\n",
    "#             x0=0.25,\n",
    "#             y0=0,\n",
    "#             x1=0.5,\n",
    "#             y1=0.5,\n",
    "#             line=dict(\n",
    "#                 color=\"LightSeaGreen\",\n",
    "#                 width=3,\n",
    "#             ),\n",
    "#             fillcolor=\"PaleTurquoise\",\n",
    "#         )\n",
    "\n",
    "# fig.add_shape(\n",
    "#         # Line reference to the axes\n",
    "#             type=\"line\",\n",
    "#             xref=\"x\",\n",
    "#             yref=\"y\",\n",
    "#             x0=4,\n",
    "#             y0=0,\n",
    "#             x1=8,\n",
    "#             y1=1,\n",
    "#             line=dict(\n",
    "#                 color=\"LightSeaGreen\",\n",
    "#                 width=3,\n",
    "#             ),\n",
    "#         )\n",
    "# fig.update_yaxes(range=[min_x, max_x])\n",
    "#     shapes = [dict(\n",
    "#         x0='2019-08-21 00:00:00', x1='2019-08-21 23:55:00', y0=list(df.on_high)[0], y1=list(df.on_high)[0],\n",
    "#         line_width=1)],\n",
    "# fig.update_layout(\n",
    "#     title='The Great Recession',\n",
    "#     yaxis_title='USDZAR',\n",
    "# #     shapes = [dict(\n",
    "# #         x0='2019-08-21 00:00:00', x1='2019-08-21 23:55:00', y0=list(df.on_low)[0], y1=list(df.on_low)[0],\n",
    "# #         line_width=1)],\n",
    "    \n",
    "#     shapes = [dict(\n",
    "#         x0='2019-08-21 00:00:00', x1='2019-08-21 23:55:00', y0=list(df.on_high)[0], y1=list(df.on_high)[0],\n",
    "#         line_width=1)])\n",
    "    \n",
    "#     annotations=[dict(\n",
    "#         x='2016-12-09', y=0.05, xref='x', yref='paper',\n",
    "#         showarrow=False, xanchor='left', text='Increase Period Begins')]\n",
    "\n",
    "\n",
    "fig.show()"
   ]
  },
  {
   "cell_type": "code",
   "execution_count": null,
   "metadata": {},
   "outputs": [],
   "source": [
    "def trade_df_fn(df, dfilter, tfilter):\n",
    "    return df[np.logical_and(dfilter, tfilter)]"
   ]
  },
  {
   "cell_type": "code",
   "execution_count": null,
   "metadata": {},
   "outputs": [],
   "source": [
    "daylist=list(set(ae_df.date))"
   ]
  },
  {
   "cell_type": "code",
   "execution_count": null,
   "metadata": {},
   "outputs": [],
   "source": [
    "tfilter=time_filter_fn(ae_df.copy(), 28800, 24*60*60,int_seconds_field)\n",
    "ae_df['MTM']=0\n",
    "if 'mtm' in list(ae_df):\n",
    "    ae_df.drop('mtm',axis=1,inplace=True)\n",
    "for day in daylist:\n",
    "    print('------------------------------------------------------------------------------------------------')\n",
    "    print('doing ', day, ' which is index=',daylist.index(day))\n",
    "    day_filter=day_filter_fn(ae_df, day)\n",
    "    trade_df=trade_df_fn(df=ae_df.copy(), dfilter=day_filter, tfilter=tfilter)\n",
    "    trade_df['mtm']=0\n",
    "    trade_df['pos']=0\n",
    "    trade_df['trade']=0\n",
    "    trade_df['entry_price']=0\n",
    "    strade_dict=dict()\n",
    "    spos=0\n",
    "    trade_df_maxindex=max(trade_df.index)\n",
    "    for index, (trade_df_index,dt,close,sell_50,sell_75,sell_100) in enumerate(zip(trade_df.index,trade_df['datetime'],trade_df['Close'], trade_df['sell_50'],trade_df['sell_75'],trade_df['sell_100'])):\n",
    "#         print(index,close,dt)\n",
    "        if (close>sell_50) and (trade_df.loc[trade_df_index-1,'pos']==0):\n",
    "    #         spos+=1\n",
    "    #         trade_df.loc[range(trade_df_index,trade_df_maxindex+1),'spos']=spos\n",
    "            trade_df.loc[trade_df_index,'trade']=-1\n",
    "            trade_df.loc[trade_df_index,'entry_price']=close\n",
    "            average_entry_price=trade_df['trade']\n",
    "        if (close>sell_75) and (trade_df.loc[trade_df_index-1,'pos']==-1):\n",
    "            spos+=1                \n",
    "    #         trade_df.loc[range(trade_df_index,trade_df_maxindex+1),'spos']=spos\n",
    "            trade_df.loc[trade_df_index,'trade']=-1\n",
    "            trade_df.loc[trade_df_index,'entry_price']=close    \n",
    "        if (close>sell_100) and (trade_df.loc[trade_df_index-1,'pos']==-2):\n",
    "            spos+=1                \n",
    "    #         trade_df.loc[range(trade_df_index,trade_df_maxindex+1),'spos']=spos\n",
    "            trade_df.loc[trade_df_index,'trade']=-1\n",
    "            trade_df.loc[trade_df_index,'entry_price']=close    \n",
    "        trade_df['pos']=trade_df['trade'].cumsum()\n",
    "        trade_df.loc[trade_df_index,'mtm']=sum(trade_df['trade'].values*close- np.multiply(trade_df['trade'], trade_df['entry_price']))\n",
    "\n",
    "    if 'mtm' in list(ae_df):\n",
    "        ae_df.drop('mtm',axis=1,inplace=True)\n",
    "    # ae_df.drop('mtm_y',axis=1,inplace=True)\n",
    "    ae_df=ae_df.merge(trade_df[['datetime','mtm']], left_on='datetime', right_on='datetime', how='outer')\n",
    "    ae_df['mtm'].fillna(0,inplace=True)\n",
    "    ae_df['MTM'] = ae_df['mtm'] + ae_df['MTM']\n",
    "    ae_df.drop('mtm',axis=1,inplace=True)\n",
    "    # ae_df.drop('mtm_y',axis=1,inplace=True)"
   ]
  },
  {
   "cell_type": "code",
   "execution_count": null,
   "metadata": {},
   "outputs": [],
   "source": [
    "trade_df.mtm"
   ]
  },
  {
   "cell_type": "code",
   "execution_count": null,
   "metadata": {},
   "outputs": [],
   "source": [
    "if 'mtm' in list(ae_df):\n",
    "    ae_df.drop('mtm',axis=1,inplace=True)\n",
    "# ae_df.drop('mtm_y',axis=1,inplace=True)\n",
    "ae_df=ae_df.merge(trade_df[['datetime','mtm']], left_on='datetime', right_on='datetime', how='outer')\n",
    "ae_df['MTM'] = ae_df['mtm'] + ae_df['MTM']\n",
    "ae_df.drop('mtm',axis=1,inplace=True)\n",
    "# ae_df.drop('mtm_y',axis=1,inplace=True)"
   ]
  },
  {
   "cell_type": "code",
   "execution_count": null,
   "metadata": {},
   "outputs": [],
   "source": [
    "ae_df[[int_seconds_field,'MTM']]"
   ]
  },
  {
   "cell_type": "code",
   "execution_count": null,
   "metadata": {},
   "outputs": [],
   "source": [
    "mtm_df=ae_df[[int_seconds_field,'MTM']].groupby([int_seconds_field]).sum()"
   ]
  },
  {
   "cell_type": "code",
   "execution_count": null,
   "metadata": {},
   "outputs": [],
   "source": [
    "mtm_df.reset_index(inplace=True)"
   ]
  },
  {
   "cell_type": "code",
   "execution_count": null,
   "metadata": {},
   "outputs": [],
   "source": [
    "import matplotlib.pyplot as plt\n",
    "# import pandas as pd\n",
    "\n",
    "# gca stands for 'get current axis'\n",
    "ax = plt.gca()\n",
    "\n",
    "mtm_df.plot(kind='line',x=int_seconds_field,y='MTM',ax=ax)"
   ]
  },
  {
   "cell_type": "code",
   "execution_count": null,
   "metadata": {},
   "outputs": [],
   "source": [
    "profile_df=ae_df.pivot(index=int_seconds_field, columns='date', values='MTM')"
   ]
  },
  {
   "cell_type": "code",
   "execution_count": null,
   "metadata": {},
   "outputs": [],
   "source": [
    "tl=profile_df[profile_df.index==12*60*60].values[0]"
   ]
  },
  {
   "cell_type": "code",
   "execution_count": null,
   "metadata": {},
   "outputs": [],
   "source": [
    "np.where(profile_df[profile_df.index==12*60*60]<0)[1]"
   ]
  },
  {
   "cell_type": "code",
   "execution_count": null,
   "metadata": {},
   "outputs": [],
   "source": [
    "tl[0]"
   ]
  },
  {
   "cell_type": "code",
   "execution_count": null,
   "metadata": {},
   "outputs": [],
   "source": [
    "len(tl[np.where(profile_df[profile_df.index==12*60*60]<0)[1]])"
   ]
  },
  {
   "cell_type": "code",
   "execution_count": null,
   "metadata": {},
   "outputs": [],
   "source": [
    "len(tl[np.where(profile_df[profile_df.index==12*60*60]>0)[1]])"
   ]
  },
  {
   "cell_type": "code",
   "execution_count": null,
   "metadata": {},
   "outputs": [],
   "source": [
    "trade_df['entry_price']=0\n",
    "trade_df.loc[trade_df['trade']!=0,'entry_price']=trade_df[trade_df['trade']!=0]['close']"
   ]
  },
  {
   "cell_type": "code",
   "execution_count": null,
   "metadata": {},
   "outputs": [],
   "source": [
    "trade_df_index"
   ]
  },
  {
   "cell_type": "code",
   "execution_count": null,
   "metadata": {},
   "outputs": [],
   "source": [
    "np.dot(trade_df['trade'], trade_df['entry_price'])/trade_df['pos'].values[-1]"
   ]
  },
  {
   "cell_type": "code",
   "execution_count": null,
   "metadata": {},
   "outputs": [],
   "source": [
    "trade_df['pos'].values[-1]"
   ]
  },
  {
   "cell_type": "code",
   "execution_count": null,
   "metadata": {},
   "outputs": [],
   "source": [
    "close"
   ]
  },
  {
   "cell_type": "code",
   "execution_count": null,
   "metadata": {},
   "outputs": [],
   "source": [
    "(np.dot(trade_df['trade'], trade_df['entry_price'])/trade_df['pos'].values[-1]-close)*trade_df['pos'].values[-1]"
   ]
  },
  {
   "cell_type": "code",
   "execution_count": null,
   "metadata": {},
   "outputs": [],
   "source": [
    "trade_df['trade']*-1"
   ]
  },
  {
   "cell_type": "code",
   "execution_count": null,
   "metadata": {},
   "outputs": [],
   "source": [
    "sum(trade_df['trade'].values*close- np.multiply(trade_df['trade'], trade_df['entry_price']))"
   ]
  },
  {
   "cell_type": "code",
   "execution_count": null,
   "metadata": {},
   "outputs": [],
   "source": [
    "trade_df['mtm']"
   ]
  },
  {
   "cell_type": "code",
   "execution_count": null,
   "metadata": {},
   "outputs": [],
   "source": [
    "\n",
    "min_y=min(min(trade_df['Low']),min(trade_df.buy_100))*0.995\n",
    "max_y=max(max(trade_df['High']),max(trade_df.sell_100))*1.005\n",
    "\n",
    "fig = make_subplots(specs=[[{\"secondary_y\": True}]])#this a one cell subplot\n",
    "trace1 = go.Scatter(x=trade_df['datetime'], \n",
    "                    y=trade_df['mtm'], \n",
    "                    marker= dict(line= dict(width= 1), \n",
    "                           size= 8), \n",
    "                    line=dict(color= '#ffc0cb', width= 1.5),\n",
    "                    name= '')\n",
    "\n",
    "\n",
    "fig.add_trace(go.Candlestick(x=trade_df['datetime'],\n",
    "                open=trade_df['Open'],\n",
    "                high=trade_df['High'],\n",
    "                low=trade_df['Low'],\n",
    "                close=trade_df['Close'],name= 'Candles'))\n",
    "# fig.add_trace(go.Scatter(x=[start_time, end_time, fin_time], y=[1, 3, 2]),secondary_y=True)\n",
    "\n",
    "# fig = go.Figure(data=[go.Candlestick(x=trade_df['datetime'],\n",
    "#                 open=trade_df['Open'],\n",
    "#                 high=trade_df['High'],\n",
    "#                 low=trade_df['Low'],\n",
    "#                 close=trade_df['Close'])])\n",
    "# fig.add_trace(go.Bar(x=[1, 2, 3], y=[1, 3, 2]),secondary_y=True)\n",
    "# start_time, end_time, fin_time = time_fn(dst=list(trade_df['datetime'])[0])\n",
    "# fig.update_xaxes(range=[min(df.buy_100), max(df.sell_100)])\n",
    "# fig.update_yaxes(range=[start_time, end_time])\n",
    "\n",
    "\n",
    "# start_time=list(df['datetime'])[0]\n",
    "# end_time=list(df['datetime'])[-1]\n",
    "\n",
    "fig.update_layout(\n",
    "    title='Overnight trade',\n",
    "    yaxis_title='USDZAR',\n",
    "    shapes = [\n",
    "        dict(\n",
    "#         type=\"rect\",\n",
    "        x0=end_time, x1=fin_time, y0=list(trade_df.sell_100)[0], y1=list(trade_df.sell_100)[0],\n",
    "        line=dict(color=\"red\",width=1,dash=\"dashdot\"),opacity=0.2),\n",
    "        dict(\n",
    "        x0=end_time, x1=fin_time, y0=list(trade_df.sell_75)[0], y1=list(trade_df.sell_75)[0],\n",
    "        line=dict(color=\"red\",width=1,dash=\"dashdot\"),opacity=0.3),\n",
    "        dict(\n",
    "        x0=end_time, x1=fin_time, y0=list(trade_df.sell_50)[0], y1=list(trade_df.sell_50)[0],\n",
    "        line=dict(color=\"red\",width=1,dash=\"dashdot\"),opacity=0.4),\n",
    "        dict(\n",
    "        x0=end_time, x1=fin_time, y0=list(trade_df.buy_100)[0], y1=list(trade_df.buy_100)[0],\n",
    "        line=dict(color=\"green\",width=1,dash=\"dashdot\"),opacity=0.2),\n",
    "        dict(\n",
    "        x0=end_time, x1=fin_time, y0=list(trade_df.buy_75)[0], y1=list(trade_df.buy_75)[0],\n",
    "        line=dict(color=\"green\",width=1,dash=\"dashdot\"),opacity=0.3),\n",
    "        dict(\n",
    "        x0=end_time, x1=fin_time, y0=list(trade_df.buy_50)[0], y1=list(trade_df.buy_50)[0],\n",
    "        line=dict(color=\"green\",width=1,dash=\"dashdot\"),opacity=0.4),      \n",
    "        dict(\n",
    "        type=\"rect\",\n",
    "        x0=start_time, x1=end_time, y0=list(trade_df.on_low)[0], y1=list(trade_df.on_high)[0],\n",
    "        fillcolor=\"LightSkyBlue\", opacity=0.15),\n",
    "        dict(\n",
    "        type=\"rect\",\n",
    "        x0=start_time, x1=end_time, y0=min_y, y1=max_y,\n",
    "        fillcolor=\"LightSkyBlue\", opacity=0.05),        \n",
    "#         dict(\n",
    "#         x0=start_time, x1=end_time, y0=list(df.on_low)[0], y1=list(df.on_low)[0],\n",
    "#         line_width=1),\n",
    "#         dict(\n",
    "#         x0=start_time, x1=end_time, y0=list(df.on_high)[0], y1=list(df.on_high)[0],\n",
    "#         line_width=1)\n",
    "    ])\n",
    "\n",
    "trace2 = go.Scatter(x=trade_df['datetime'], \n",
    "                    y=trade_df['mtm'], \n",
    "                    marker= dict(line= dict(width= 1), \n",
    "                           size= 8), \n",
    "                    line=dict(color= '#ffc0cb', width= 1.5),\n",
    "                    name= 'MTM')\n",
    "fig.add_trace(trace2, secondary_y=True);\n",
    "\n",
    "fig.show()"
   ]
  },
  {
   "cell_type": "code",
   "execution_count": null,
   "metadata": {},
   "outputs": [],
   "source": [
    "# import plotly.graph_objects as go\n",
    "# fig = go.Figure()\n",
    "\n",
    "from plotly.subplots import make_subplots\n",
    "fig = make_subplots(specs=[[{\"secondary_y\": True}]])#this a one cell subplot\n",
    "fig.add_trace(go.Candlestick(x=trade_df['datetime'],\n",
    "                open=trade_df['Open'],\n",
    "                high=trade_df['High'],\n",
    "                low=trade_df['Low'],\n",
    "                close=trade_df['Close']))\n",
    "fig.add_trace(go.Scatter(x=[start_time, end_time, fin_time], y=[1, 3, 2]),secondary_y=True)\n",
    "# fig.add_trace(go.Bar(x=[1, 2, 3], y=[1, 3, 2]))\n",
    "fig.show()\n"
   ]
  },
  {
   "cell_type": "code",
   "execution_count": null,
   "metadata": {},
   "outputs": [],
   "source": [
    "import pandas as pd\n",
    "import zipfile"
   ]
  },
  {
   "cell_type": "code",
   "execution_count": null,
   "metadata": {},
   "outputs": [],
   "source": [
    "zf = zipfile.ZipFile('/media/lnr-ai/christo/github_repos/graphing/data/clientswipes_201701_01.zip') \n",
    "df = pd.read_csv(zf.open('clientswipes_201701_01.csv'))"
   ]
  },
  {
   "cell_type": "code",
   "execution_count": null,
   "metadata": {},
   "outputs": [],
   "source": []
  }
 ],
 "metadata": {
  "kernelspec": {
   "display_name": "Python 3",
   "language": "python",
   "name": "python3"
  },
  "language_info": {
   "codemirror_mode": {
    "name": "ipython",
    "version": 3
   },
   "file_extension": ".py",
   "mimetype": "text/x-python",
   "name": "python",
   "nbconvert_exporter": "python",
   "pygments_lexer": "ipython3",
   "version": "3.7.6"
  }
 },
 "nbformat": 4,
 "nbformat_minor": 4
}
